{
  "nbformat": 4,
  "nbformat_minor": 0,
  "metadata": {
    "colab": {
      "name": "code.ipynb",
      "provenance": [],
      "authorship_tag": "ABX9TyMEIaxlSc5o8pg1XViz517N",
      "include_colab_link": true
    },
    "kernelspec": {
      "name": "python3",
      "display_name": "Python 3"
    }
  },
  "cells": [
    {
      "cell_type": "markdown",
      "metadata": {
        "id": "view-in-github",
        "colab_type": "text"
      },
      "source": [
        "<a href=\"https://colab.research.google.com/github/sagarbhadra7/python-mini-challenges/blob/master/code.ipynb\" target=\"_parent\"><img src=\"https://colab.research.google.com/assets/colab-badge.svg\" alt=\"Open In Colab\"/></a>"
      ]
    },
    {
      "cell_type": "code",
      "metadata": {
        "id": "7_MHpqnLUvj8",
        "colab_type": "code",
        "colab": {
          "base_uri": "https://localhost:8080/",
          "height": 252
        },
        "outputId": "e29fcd50-3161-4250-de51-08777c8038cf"
      },
      "source": [
        "# import packages\n",
        "import os\n",
        "import pandas as pd\n",
        "import numpy as np\n",
        "from sklearn.model_selection import train_test_split\n",
        "\n",
        "# Code starts here\n",
        "path='file.csv'\n",
        "# read data\n",
        "data = pd.read_csv(path)\n",
        "\n",
        "# split into features and target\n",
        "X = data.iloc[:,:7]\n",
        "y = data.iloc[:,7:]\n",
        "\n",
        "# Train and Test data\n",
        "X_train,X_test,y_train,y_test = train_test_split(X,y,test_size = 0.3)\n",
        "\n",
        "# display first five rows of training features and target\n",
        "print(X_train.head())\n",
        "print(y_train.head())\n",
        "\n",
        "# Code ends here"
      ],
      "execution_count": 1,
      "outputs": [
        {
          "output_type": "stream",
          "text": [
            "     ExterQual  AllFlrsSF  GrLivArea  ...  GarageArea  TotRmsAbvGrd  LotFrontage\n",
            "75           3        928        928  ...         252             4         70.0\n",
            "701          3       1367       1367  ...         560             6         52.0\n",
            "32           3       1378       1378  ...         360             7         60.0\n",
            "484          3       1320       1320  ...         564             6         96.0\n",
            "387          4       1530       1530  ...         430             7        124.0\n",
            "\n",
            "[5 rows x 7 columns]\n",
            "     SalePrice\n",
            "75      132000\n",
            "701     127500\n",
            "32      161000\n",
            "484     164500\n",
            "387     260000\n"
          ],
          "name": "stdout"
        }
      ]
    },
    {
      "cell_type": "code",
      "metadata": {
        "id": "JgZrLeyGVR2Z",
        "colab_type": "code",
        "colab": {
          "base_uri": "https://localhost:8080/",
          "height": 314
        },
        "outputId": "3a665792-df35-4935-c2ba-cbf93aacc37f"
      },
      "source": [
        "# Plot the distribution of the target variable 'SalePrice'\n",
        "\n",
        "\n",
        "import matplotlib.pyplot as plt\n",
        "\n",
        "data.hist('SalePrice')"
      ],
      "execution_count": 2,
      "outputs": [
        {
          "output_type": "execute_result",
          "data": {
            "text/plain": [
              "array([[<matplotlib.axes._subplots.AxesSubplot object at 0x7f5c3bc523c8>]],\n",
              "      dtype=object)"
            ]
          },
          "metadata": {
            "tags": []
          },
          "execution_count": 2
        },
        {
          "output_type": "display_data",
          "data": {
            "image/png": "[encoded data removed]",
            "text/plain": [
              "<Figure size 432x288 with 1 Axes>"
            ]
          },
          "metadata": {
            "tags": []
          }
        }
      ]
    },
    {
      "cell_type": "code",
      "metadata": {
        "id": "1vnXamQVVXT5",
        "colab_type": "code",
        "colab": {}
      },
      "source": [
        ""
      ],
      "execution_count": 0,
      "outputs": []
    }
  ]
}